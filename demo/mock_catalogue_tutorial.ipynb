{
 "cells": [
  {
   "cell_type": "markdown",
   "metadata": {},
   "source": [
    "# pop-cosmos: Galaxy Catalogue Data Analysis\n",
    "\n",
    "**Zenodo Link:** https://doi.org/10.5281/zenodo.15622325\n",
    " \n",
    "**Corresponding Author:** Stephen Thorp <stephen.thorp@fysik.su.se>\n",
    "\n",
    "This notebook demonstrates how to work with the pop-cosmos mock galaxy catalog data products from the paper \"pop-cosmos: Insights from generative modeling of a deep, infrared-selected galaxy population\" by Thorp et al. (2025).\n",
    "\n",
    "## Dataset Overview\n",
    "\n",
    "The dataset contains two mock galaxy catalogs, each with 2 million galaxies sampled from the pop-cosmos generative model calibrated on COSMOS2020 data:\n",
    "- `mock_catalog_Ch1_26.h5`: IRAC Ch.1 < 26 magnitude limit\n",
    "- `mock_catalog_r_25.h5`: r < 25 magnitude limit\n",
    "\n",
    "### Citation\n",
    "If you use these data, please cite:\n",
    "- J. Alsing et al. (2024). ApJS, 274, 12. [arXiv:2402.00935](https://arxiv.org/abs/2402.00935)\n",
    "- S. Thorp et al. (2025). ApJ, submitted."
   ]
  },
  {
   "cell_type": "markdown",
   "metadata": {},
   "source": [
    "## Installation Requirements\n",
    "\n",
    "Make sure you have the required packages installed:"
   ]
  },
  {
   "cell_type": "code",
   "execution_count": 1,
   "metadata": {},
   "outputs": [],
   "source": [
    "# Uncomment to install required packages\n",
    "# !pip install h5py numpy matplotlib pandas seaborn"
   ]
  },
  {
   "cell_type": "code",
   "execution_count": 2,
   "metadata": {},
   "outputs": [],
   "source": [
    "import h5py\n",
    "import numpy as np\n",
    "import matplotlib.pyplot as plt\n",
    "import pandas as pd\n",
    "import seaborn as sns\n",
    "import os\n",
    "\n",
    "# Set plotting style\n",
    "plt.style.use('default')\n",
    "sns.set_palette(\"husl\")\n",
    "plt.rcParams['figure.figsize'] = (10, 6)\n",
    "plt.rcParams['font.size'] = 12"
   ]
  },
  {
   "cell_type": "markdown",
   "metadata": {},
   "source": [
    "## Loading the Data\n",
    "\n",
    "First, let's open one of the HDF5 files and explore its structure:"
   ]
  },
  {
   "cell_type": "code",
   "execution_count": 3,
   "metadata": {},
   "outputs": [
    {
     "name": "stdout",
     "output_type": "stream",
     "text": [
      "Successfully opened ../mock_catalog_Ch1_26.h5\n",
      "File size: 1.12 GB\n"
     ]
    }
   ],
   "source": [
    "# Open the HDF5 file\n",
    "filename = \"../mock_catalog_Ch1_26.h5\"  # Change this to your file path\n",
    "\n",
    "try:\n",
    "    f = h5py.File(filename, \"r\")\n",
    "    print(f\"Successfully opened {filename}\")\n",
    "    # Get file size using os.path\n",
    "    file_size_gb = os.path.getsize(filename) / (1024**3)\n",
    "    print(f\"File size: {file_size_gb:.2f} GB\")\n",
    "except FileNotFoundError:\n",
    "    print(f\"File {filename} not found. Please download it from the Zenodo record.\")\n",
    "    print(\"For demonstration, we'll show the expected structure.\")\n",
    "    f = None"
   ]
  },
  {
   "cell_type": "markdown",
   "metadata": {},
   "source": [
    "## Data Structure Exploration\n",
    "\n",
    "Let's examine the structure and metadata of the catalog:"
   ]
  },
  {
   "cell_type": "code",
   "execution_count": 4,
   "metadata": {},
   "outputs": [
    {
     "name": "stdout",
     "output_type": "stream",
     "text": [
      "Available datasets:\n",
      "  derived_parameters   | Shape: (2000000, 4) | Dtype: float32\n",
      "  flux_sigmas          | Shape: (2000000, 26) | Dtype: float32\n",
      "  fluxes               | Shape: (2000000, 26) | Dtype: float32\n",
      "  fluxes_noiseless     | Shape: (2000000, 26) | Dtype: float32\n",
      "  magnitudes_asinh     | Shape: (2000000, 26) | Dtype: float32\n",
      "  magnitudes_log       | Shape: (2000000, 26) | Dtype: float32\n",
      "  mass_995             | Shape: (2000000,) | Dtype: bool\n",
      "  mass_complete        | Shape: (2000000,) | Dtype: bool\n",
      "  sps_parameters       | Shape: (2000000, 16) | Dtype: float32\n"
     ]
    }
   ],
   "source": [
    "# Explore the main datasets\n",
    "if f is not None:\n",
    "    print(\"Available datasets:\")\n",
    "    for key in f.keys():\n",
    "        dataset = f[key]\n",
    "        print(f\"  {key:20} | Shape: {dataset.shape} | Dtype: {dataset.dtype}\")\n",
    "else:\n",
    "    print(\"Expected datasets:\")\n",
    "    expected_datasets = {\n",
    "        \"fluxes\": \"(2000000, 26) | Noisy model fluxes in Mgy\",\n",
    "        \"fluxes_noiseless\": \"(2000000, 26) | Noiseless model fluxes in Mgy\", \n",
    "        \"magnitudes_log\": \"(2000000, 26) | Noisy log magnitudes (AB system)\",\n",
    "        \"magnitudes_asinh\": \"(2000000, 26) | Noisy asinh magnitudes (AB system)\",\n",
    "        \"sps_parameters\": \"(2000000, 16) | Base SPS model parameters\",\n",
    "        \"derived_parameters\": \"(2000000, 4) | Derived model parameters\",\n",
    "        \"mass_complete\": \"(2000000,) | Mass completeness boolean\",\n",
    "        \"mass_995\": \"(2000000,) | Below 99.5th percentile mass boolean\"\n",
    "    }\n",
    "    for key, desc in expected_datasets.items():\n",
    "        print(f\"  {key:20} | {desc}\")"
   ]
  },
  {
   "cell_type": "code",
   "execution_count": 5,
   "metadata": {},
   "outputs": [
    {
     "name": "stdout",
     "output_type": "stream",
     "text": [
      "\n",
      "File attributes (metadata):\n",
      "  band_list                 | ['u' 'g' 'r' 'i' 'z' 'y' 'Y' 'J' 'H' 'Ks' 'IB427' 'IB464' 'IA484' 'IB505'\n",
      " 'IA527' 'IB574' 'IA624' 'IA679' 'IB709' 'IA738' 'IA767' 'IB827' 'NB711'\n",
      " 'NB816' 'Ch1' 'Ch2']\n",
      "  created                   | 2025-04-03_09-38-34\n",
      "  derived_parameter_list    | ['age' 'log10M_remain' 'log10SFR' 'log10sSFR']\n",
      "  flux_softening            | [1.0796025e-12 3.0850505e-12 5.0810960e-12 8.7932684e-13 2.9128664e-12\n",
      " 4.0592320e-12 2.6236728e-12 4.9892664e-12 3.3344517e-12 1.1464796e-12\n",
      " 5.2633565e-12 3.9987060e-12 6.6203090e-12 4.7184913e-12 6.1633790e-12\n",
      " 1.1476493e-12 4.2965584e-12 6.2214015e-12 1.8217973e-12 4.1181610e-12\n",
      " 8.2312600e-12 8.9092550e-12 1.0833998e-11 7.9285300e-12 3.2293492e-12\n",
      " 3.4518978e-12]\n",
      "  flux_unit                 | maggies\n",
      "  magnitude_unit            | AB\n",
      "  reference_band            | Ch1\n",
      "  reference_band_limit_asinh | 25.99292528699868\n",
      "  reference_band_limit_log  | 26.0\n",
      "  sps_parameter_list        | ['log10M_formed' 'log10Z' 'log10SFR_ratio1' 'log10SFR_ratio2'\n",
      " 'log10SFR_ratio3' 'log10SFR_ratio4' 'log10SFR_ratio5' 'log10SFR_ratio6'\n",
      " 'dust2' 'dust_index' 'dust1_fraction' 'lnfAGN' 'lntauAGN' 'log10Zgas'\n",
      " 'log10Ugas' 'z']\n"
     ]
    }
   ],
   "source": [
    "# Explore the attributes (metadata)\n",
    "if f is not None:\n",
    "    print(\"\\nFile attributes (metadata):\")\n",
    "    for key in f.attrs.keys():\n",
    "        value = f.attrs[key]\n",
    "        if isinstance(value, bytes):\n",
    "            value = value.decode('utf-8')\n",
    "        print(f\"  {key:25} | {value}\")\n",
    "else:\n",
    "    print(\"\\nExpected attributes include:\")\n",
    "    print(\"  created, band_list, sps_parameter_list, derived_parameter_list,\")\n",
    "    print(\"  reference_band, magnitude_unit, flux_unit, etc.\")"
   ]
  },
  {
   "cell_type": "markdown",
   "metadata": {},
   "source": [
    "## Photometric Bands\n",
    "\n",
    "The catalog contains photometry in 26 bands from various surveys:"
   ]
  },
  {
   "cell_type": "code",
   "execution_count": 6,
   "metadata": {},
   "outputs": [
    {
     "name": "stdout",
     "output_type": "stream",
     "text": [
      "Photometric bands in the catalog:\n",
      "['u' 'g' 'r' 'i' 'z' 'y' 'Y' 'J' 'H' 'Ks' 'IB427' 'IB464' 'IA484' 'IB505'\n",
      " 'IA527' 'IB574' 'IA624' 'IA679' 'IB709' 'IA738' 'IA767' 'IB827' 'NB711'\n",
      " 'NB816' 'Ch1' 'Ch2']\n"
     ]
    }
   ],
   "source": [
    "# Define the band information\n",
    "band_info = f.attrs[\"band_list\"]\n",
    "print(\"Photometric bands in the catalog:\")\n",
    "print(band_info)"
   ]
  },
  {
   "cell_type": "markdown",
   "metadata": {},
   "source": [
    "## SPS Parameters\n",
    "\n",
    "The catalog includes 16 base stellar population synthesis (SPS) parameters:\n",
    "\n",
    "    log10M_formed - \"stellar mass formed (log10 solar masses)\",\n",
    "    log10Z\", \"stellar metallicity (log10 solar metallicity)\",\n",
    "    log10sfr_ratio1, \"SFR ratio between bin 1 and 2 of SFH\",\n",
    "    log10sfr_ratio2, \"SFR ratio between bin 2 and 3 of SFH\",\n",
    "    log10sfr_ratio3, \"SFR ratio between bin 3 and 4 of SFH\",\n",
    "    log10sfr_ratio4, \"SFR ratio between bin 4 and 5 of SFH\",\n",
    "    log10sfr_ratio5, \"SFR ratio between bin 5 and 6 of SFH\",\n",
    "    log10sfr_ratio6, \"SFR ratio between bin 6 and 7 of SFH\",\n",
    "    dust2, \"optical depth of diffuse dust\",\n",
    "    dust_index, \"power law index of diffuse dust attenuation law\",\n",
    "    dust1_fraction, \"ratio of birth cloud to diffuse dust attenuation\",\n",
    "    lnfAGN, \"ratio of AGN bolometric luminosity to stellar luminosity\",\n",
    "    lntauAGN, \"optical depth of AGN dust torus\",\n",
    "    log10Zgas, \"gas-phase metallicity (log10 solar metallicity)\",\n",
    "    log10Ugas, \"gas ionization\",\n",
    "    z, \"redshift\""
   ]
  },
  {
   "cell_type": "code",
   "execution_count": 7,
   "metadata": {},
   "outputs": [
    {
     "name": "stdout",
     "output_type": "stream",
     "text": [
      "SPS parameters in the catalog:\n",
      "['log10M_formed' 'log10Z' 'log10SFR_ratio1' 'log10SFR_ratio2'\n",
      " 'log10SFR_ratio3' 'log10SFR_ratio4' 'log10SFR_ratio5' 'log10SFR_ratio6'\n",
      " 'dust2' 'dust_index' 'dust1_fraction' 'lnfAGN' 'lntauAGN' 'log10Zgas'\n",
      " 'log10Ugas' 'z']\n"
     ]
    }
   ],
   "source": [
    "# Define SPS parameter information\n",
    "sps_params = f.attrs['sps_parameter_list']\n",
    "print(\"SPS parameters in the catalog:\")\n",
    "print(sps_params)"
   ]
  },
  {
   "cell_type": "markdown",
   "metadata": {},
   "source": [
    "## Derived Parameters\n",
    "\n",
    "The catalog also includes 4 derived parameters:"
   ]
  },
  {
   "cell_type": "code",
   "execution_count": 8,
   "metadata": {},
   "outputs": [
    {
     "ename": "ValueError",
     "evalue": "Shape of passed values is (4, 1), indices imply (4, 3)",
     "output_type": "error",
     "traceback": [
      "\u001b[31m---------------------------------------------------------------------------\u001b[39m",
      "\u001b[31mValueError\u001b[39m                                Traceback (most recent call last)",
      "\u001b[36mCell\u001b[39m\u001b[36m \u001b[39m\u001b[32mIn[8]\u001b[39m\u001b[32m, line 4\u001b[39m\n\u001b[32m      1\u001b[39m \u001b[38;5;66;03m# Define derived parameter information\u001b[39;00m\n\u001b[32m      2\u001b[39m derived_params = f.attrs[\u001b[33m'\u001b[39m\u001b[33mderived_parameter_list\u001b[39m\u001b[33m'\u001b[39m]\n\u001b[32m----> \u001b[39m\u001b[32m4\u001b[39m derived_df = \u001b[43mpd\u001b[49m\u001b[43m.\u001b[49m\u001b[43mDataFrame\u001b[49m\u001b[43m(\u001b[49m\u001b[43mderived_params\u001b[49m\u001b[43m,\u001b[49m\u001b[43m \u001b[49m\u001b[43mcolumns\u001b[49m\u001b[43m=\u001b[49m\u001b[43m[\u001b[49m\u001b[33;43m'\u001b[39;49m\u001b[33;43mIndex\u001b[39;49m\u001b[33;43m'\u001b[39;49m\u001b[43m,\u001b[49m\u001b[43m \u001b[49m\u001b[33;43m'\u001b[39;49m\u001b[33;43mParameter\u001b[39;49m\u001b[33;43m'\u001b[39;49m\u001b[43m,\u001b[49m\u001b[43m \u001b[49m\u001b[33;43m'\u001b[39;49m\u001b[33;43mDescription\u001b[39;49m\u001b[33;43m'\u001b[39;49m\u001b[43m]\u001b[49m\u001b[43m)\u001b[49m\n\u001b[32m      5\u001b[39m \u001b[38;5;28mprint\u001b[39m(\u001b[33m\"\u001b[39m\u001b[33mDerived parameters in the catalog:\u001b[39m\u001b[33m\"\u001b[39m)\n\u001b[32m      6\u001b[39m \u001b[38;5;28mprint\u001b[39m(derived_df.to_string(index=\u001b[38;5;28;01mFalse\u001b[39;00m))\n",
      "\u001b[36mFile \u001b[39m\u001b[32m~/Desktop/pop_cosmos_venv/lib/python3.11/site-packages/pandas/core/frame.py:827\u001b[39m, in \u001b[36mDataFrame.__init__\u001b[39m\u001b[34m(self, data, index, columns, dtype, copy)\u001b[39m\n\u001b[32m    816\u001b[39m         mgr = dict_to_mgr(\n\u001b[32m    817\u001b[39m             \u001b[38;5;66;03m# error: Item \"ndarray\" of \"Union[ndarray, Series, Index]\" has no\u001b[39;00m\n\u001b[32m    818\u001b[39m             \u001b[38;5;66;03m# attribute \"name\"\u001b[39;00m\n\u001b[32m   (...)\u001b[39m\u001b[32m    824\u001b[39m             copy=_copy,\n\u001b[32m    825\u001b[39m         )\n\u001b[32m    826\u001b[39m     \u001b[38;5;28;01melse\u001b[39;00m:\n\u001b[32m--> \u001b[39m\u001b[32m827\u001b[39m         mgr = \u001b[43mndarray_to_mgr\u001b[49m\u001b[43m(\u001b[49m\n\u001b[32m    828\u001b[39m \u001b[43m            \u001b[49m\u001b[43mdata\u001b[49m\u001b[43m,\u001b[49m\n\u001b[32m    829\u001b[39m \u001b[43m            \u001b[49m\u001b[43mindex\u001b[49m\u001b[43m,\u001b[49m\n\u001b[32m    830\u001b[39m \u001b[43m            \u001b[49m\u001b[43mcolumns\u001b[49m\u001b[43m,\u001b[49m\n\u001b[32m    831\u001b[39m \u001b[43m            \u001b[49m\u001b[43mdtype\u001b[49m\u001b[43m=\u001b[49m\u001b[43mdtype\u001b[49m\u001b[43m,\u001b[49m\n\u001b[32m    832\u001b[39m \u001b[43m            \u001b[49m\u001b[43mcopy\u001b[49m\u001b[43m=\u001b[49m\u001b[43mcopy\u001b[49m\u001b[43m,\u001b[49m\n\u001b[32m    833\u001b[39m \u001b[43m            \u001b[49m\u001b[43mtyp\u001b[49m\u001b[43m=\u001b[49m\u001b[43mmanager\u001b[49m\u001b[43m,\u001b[49m\n\u001b[32m    834\u001b[39m \u001b[43m        \u001b[49m\u001b[43m)\u001b[49m\n\u001b[32m    836\u001b[39m \u001b[38;5;66;03m# For data is list-like, or Iterable (will consume into list)\u001b[39;00m\n\u001b[32m    837\u001b[39m \u001b[38;5;28;01melif\u001b[39;00m is_list_like(data):\n",
      "\u001b[36mFile \u001b[39m\u001b[32m~/Desktop/pop_cosmos_venv/lib/python3.11/site-packages/pandas/core/internals/construction.py:336\u001b[39m, in \u001b[36mndarray_to_mgr\u001b[39m\u001b[34m(values, index, columns, dtype, copy, typ)\u001b[39m\n\u001b[32m    331\u001b[39m \u001b[38;5;66;03m# _prep_ndarraylike ensures that values.ndim == 2 at this point\u001b[39;00m\n\u001b[32m    332\u001b[39m index, columns = _get_axes(\n\u001b[32m    333\u001b[39m     values.shape[\u001b[32m0\u001b[39m], values.shape[\u001b[32m1\u001b[39m], index=index, columns=columns\n\u001b[32m    334\u001b[39m )\n\u001b[32m--> \u001b[39m\u001b[32m336\u001b[39m \u001b[43m_check_values_indices_shape_match\u001b[49m\u001b[43m(\u001b[49m\u001b[43mvalues\u001b[49m\u001b[43m,\u001b[49m\u001b[43m \u001b[49m\u001b[43mindex\u001b[49m\u001b[43m,\u001b[49m\u001b[43m \u001b[49m\u001b[43mcolumns\u001b[49m\u001b[43m)\u001b[49m\n\u001b[32m    338\u001b[39m \u001b[38;5;28;01mif\u001b[39;00m typ == \u001b[33m\"\u001b[39m\u001b[33marray\u001b[39m\u001b[33m\"\u001b[39m:\n\u001b[32m    339\u001b[39m     \u001b[38;5;28;01mif\u001b[39;00m \u001b[38;5;28missubclass\u001b[39m(values.dtype.type, \u001b[38;5;28mstr\u001b[39m):\n",
      "\u001b[36mFile \u001b[39m\u001b[32m~/Desktop/pop_cosmos_venv/lib/python3.11/site-packages/pandas/core/internals/construction.py:420\u001b[39m, in \u001b[36m_check_values_indices_shape_match\u001b[39m\u001b[34m(values, index, columns)\u001b[39m\n\u001b[32m    418\u001b[39m passed = values.shape\n\u001b[32m    419\u001b[39m implied = (\u001b[38;5;28mlen\u001b[39m(index), \u001b[38;5;28mlen\u001b[39m(columns))\n\u001b[32m--> \u001b[39m\u001b[32m420\u001b[39m \u001b[38;5;28;01mraise\u001b[39;00m \u001b[38;5;167;01mValueError\u001b[39;00m(\u001b[33mf\u001b[39m\u001b[33m\"\u001b[39m\u001b[33mShape of passed values is \u001b[39m\u001b[38;5;132;01m{\u001b[39;00mpassed\u001b[38;5;132;01m}\u001b[39;00m\u001b[33m, indices imply \u001b[39m\u001b[38;5;132;01m{\u001b[39;00mimplied\u001b[38;5;132;01m}\u001b[39;00m\u001b[33m\"\u001b[39m)\n",
      "\u001b[31mValueError\u001b[39m: Shape of passed values is (4, 1), indices imply (4, 3)"
     ]
    }
   ],
   "source": [
    "# Define derived parameter information\n",
    "derived_params = f.attrs['derived_parameter_list']\n",
    "print(\"Derived parameters in the catalog:\")\n",
    "print(derived_params)"
   ]
  },
  {
   "cell_type": "markdown",
   "metadata": {},
   "source": [
    "## Basic Data Analysis Examples\n",
    "\n",
    "Now let's demonstrate some basic analysis of the catalog data:"
   ]
  },
  {
   "cell_type": "code",
   "execution_count": null,
   "metadata": {},
   "outputs": [],
   "source": [
    "#Plot the broadband magnitudes(logarithmic) in the catalogue\n",
    "noisy_magnitudes_selected = f[\"magnitudes_log\"][:]\n",
    "\n",
    "plt.rcParams.update({\"font.size\": 15})\n",
    "mag_list = [0, 1, 2, 3, 4, 5, 6, 7, 8, 9, -2, -1]\n",
    "\n",
    "x_bins = np.linspace(16, 32, 33)\n",
    "hist_color = \"#EE6677\"\n",
    "figsize = (12.8, 6.4)\n",
    "xlim = (16, 32)\n",
    "xticks = [20, 25, 30]\n",
    "\n",
    "fig, axes = plt.subplots(3, 4, figsize=figsize)\n",
    "axes = axes.flatten()\n",
    "\n",
    "# Loop through all channels for a histogram plot\n",
    "for i, mag_idx in enumerate(mag_list):\n",
    "    ax = axes[i]\n",
    "    \n",
    "    ax.hist(noisy_magnitudes_selected[:, mag_idx], \n",
    "            color=hist_color, bins=x_bins, histtype=\"step\", \n",
    "            linewidth=1.2, density=True)\n",
    "    \n",
    "    # Filter labels\n",
    "    ax.text(0.05, 0.95, band_info[mag_idx], \n",
    "            transform=ax.transAxes, verticalalignment='top')\n",
    "    \n",
    "    if i == 3:\n",
    "        ax.text(0.95, 0.95, \"pop-cosmos\", transform=ax.transAxes, \n",
    "                verticalalignment='top', horizontalalignment=\"right\", \n",
    "                color=hist_color)\n",
    "    \n",
    "    if i in [0, 3]: \n",
    "        ax.set_ylim(0, ax.get_ylim()[1] * 1.4)\n",
    "\n",
    "    if i % 4 == 0: \n",
    "        ax.set_ylabel('density')\n",
    "    ax.set_yticks([])\n",
    "    \n",
    "    ax.set_xlim(xlim)\n",
    "    if i > 7: \n",
    "        ax.set_xlabel('mag')\n",
    "        ax.set_xticks(xticks)\n",
    "    else:\n",
    "        ax.set_xticks([])\n",
    "\n",
    "plt.subplots_adjust(hspace=0, wspace=0)\n",
    "plt.show()"
   ]
  },
  {
   "cell_type": "markdown",
   "metadata": {},
   "source": [
    "## Cleanup\n",
    "\n",
    "Don't forget to close the HDF5 file when you're done:"
   ]
  },
  {
   "cell_type": "code",
   "execution_count": null,
   "metadata": {},
   "outputs": [],
   "source": [
    "# Close the HDF5 file\n",
    "if f is not None:\n",
    "    f.close()\n",
    "    print(\"HDF5 file closed successfully.\")\n",
    "else:\n",
    "    print(\"No HDF5 file was opened in this session.\")"
   ]
  }
 ],
 "metadata": {
  "kernelspec": {
   "display_name": "Python 3",
   "language": "python",
   "name": "python3"
  },
  "language_info": {
   "codemirror_mode": {
    "name": "ipython",
    "version": 3
   },
   "file_extension": ".py",
   "mimetype": "text/x-python",
   "name": "python",
   "nbconvert_exporter": "python",
   "pygments_lexer": "ipython3",
   "version": "3.11.5"
  }
 },
 "nbformat": 4,
 "nbformat_minor": 4
}
