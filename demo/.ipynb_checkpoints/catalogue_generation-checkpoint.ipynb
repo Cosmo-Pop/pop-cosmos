{
 "cells": [
  {
   "cell_type": "code",
   "execution_count": null,
   "id": "975a151d",
   "metadata": {
    "scrolled": false
   },
   "outputs": [],
   "source": [
    "import numpy as np\n",
    "import matplotlib.pyplot as plt\n",
    "import torch\n",
    "\n",
    "from pop_cosmos.constants import COSMOS_FILTERS_LATEX\n",
    "from pop_cosmos.catalogue import CatalogueGenerator\n",
    "\n",
    "from astropy.cosmology import Planck18\n",
    "\n",
    "plt.rcParams.update({\"font.size\": 15})"
   ]
  },
  {
   "cell_type": "code",
   "execution_count": null,
   "id": "fe031d98",
   "metadata": {
    "scrolled": false
   },
   "outputs": [],
   "source": [
    "catalogue_generator = torch.load(\"../trained_models/catalogueModelCPU.pt\", weights_only=False)"
   ]
  },
  {
   "cell_type": "code",
   "execution_count": null,
   "id": "77d9cc05",
   "metadata": {},
   "outputs": [],
   "source": [
    "base_noise, base_sigma, base_phi = catalogue_generator.generate_base_samples(10000)"
   ]
  },
  {
   "cell_type": "code",
   "execution_count": null,
   "id": "e0c59a9b",
   "metadata": {},
   "outputs": [],
   "source": [
    "noisy_fluxes, noisy_magnitudes, noisy_asinh_magnitudes, flux_sigmas, theta_samples, model_fluxes = catalogue_generator(base_noise, base_sigma, base_phi)"
   ]
  },
  {
   "cell_type": "code",
   "execution_count": null,
   "id": "128163a9",
   "metadata": {},
   "outputs": [],
   "source": [
    "lims = torch.inf*torch.ones(26)\n",
    "lims[-2] = 26.0\n",
    "selection = catalogue_generator.selection_cut(noisy_fluxes, noisy_magnitudes, flux_sigmas, lims).detach().numpy()\n",
    "\n",
    "noisy_magnitudes = noisy_magnitudes.detach().numpy()\n",
    "noisy_fluxes = noisy_fluxes.detach().numpy()\n",
    "flux_sigmas = flux_sigmas.detach().numpy()\n",
    "theta_samples = theta_samples.detach().numpy()"
   ]
  },
  {
   "cell_type": "code",
   "execution_count": null,
   "id": "988a45d8",
   "metadata": {},
   "outputs": [],
   "source": [
    "noisy_magnitudes_selected = noisy_magnitudes[selection]\n",
    "noisy_flux_sigmas_selected = flux_sigmas[selection]\n",
    "thetas_selected = theta_samples[selection]"
   ]
  },
  {
   "cell_type": "code",
   "execution_count": null,
   "id": "6f67abd1",
   "metadata": {},
   "outputs": [],
   "source": []
  },
  {
   "cell_type": "code",
   "execution_count": null,
   "id": "2aadce9d",
   "metadata": {},
   "outputs": [],
   "source": [
    "mag_list = [0, 1, 2, 3, 4, 5, 6, 7, 8, 9, -2, -1]\n",
    "\n",
    "x_bins = np.linspace(16, 32, 33)\n",
    "fig, ax = plt.subplots(3, 4, figsize=(12.8, 6.4))\n",
    "ax = ax.flatten()\n",
    "for i in range(len(mag_list)):\n",
    "    x = mag_list[i]\n",
    "    ax[i].hist(noisy_magnitudes_selected[:,x], color=\"#EE6677\", bins=x_bins, histtype=\"step\", linewidth=1.2, density=True)\n",
    "\n",
    "    plt.text(0.05, 0.95, COSMOS_FILTERS_LATEX[x], transform=ax[i].transAxes, verticalalignment='top')\n",
    "    if i == 3:\n",
    "        ax[i].text(0.95, 0.95, \"pop-cosmos\", transform=ax[i].transAxes, verticalalignment='top', horizontalalignment=\"right\", color=\"#EE6677\")\n",
    "    if i == 3 or i == 0:\n",
    "        ax[i].set_ylim(0, ax[i].get_ylim()[1]*1.4)\n",
    "    if i % 4 == 0:\n",
    "        ax[i].set_ylabel('density')\n",
    "    ax[i].yaxis.set_ticks([])\n",
    "    if i > 7:\n",
    "        ax[i].set_xlabel('mag')\n",
    "        ax[i].set_xticks([20, 25, 30])\n",
    "    else:\n",
    "        ax[i].xaxis.set_ticks([])\n",
    "    ax[i].set_xlim(16,32)\n",
    "plt.subplots_adjust(hspace=0, wspace=0)\n",
    "plt.show()"
   ]
  },
  {
   "cell_type": "code",
   "execution_count": null,
   "id": "64830422",
   "metadata": {},
   "outputs": [],
   "source": [
    "mag_list = [0, 1, 2, 3, 4, 5, 6, 7, 8, 9, -2]\n",
    "\n",
    "x_bins = np.linspace(-2.5, 2.5, 51)\n",
    "fig, ax = plt.subplots(3, 3, figsize=(12.8, 6.4))\n",
    "ax = ax.flatten()\n",
    "j = 0\n",
    "for i in range(len(mag_list)-1):\n",
    "    if i != 5:\n",
    "        x, y = mag_list[i], mag_list[i+1]\n",
    "        ax[j].hist(noisy_magnitudes_selected[:,x] - noisy_magnitudes_selected[:,y], color=\"#EE6677\", bins=x_bins, histtype=\"step\", linewidth=1.2, density=True)\n",
    "\n",
    "        plt.text(0.05, 0.95, COSMOS_FILTERS_LATEX[x] + \" $-$ \" + COSMOS_FILTERS_LATEX[y], transform=ax[j].transAxes, verticalalignment='top')\n",
    "        if j == 8:\n",
    "            ax[j].text(0.95, 0.95, \"pop-cosmos\", transform=ax[j].transAxes, verticalalignment='top', horizontalalignment=\"right\", color=\"#EE6677\")\n",
    "            ax[j].set_ylim(0, ax[j].get_ylim()[1]*1.25)\n",
    "        if j % 3 == 0:\n",
    "            ax[j].set_ylabel('density')\n",
    "        ax[j].yaxis.set_ticks([])\n",
    "        if j >= 6:\n",
    "            ax[j].set_xlabel('color')\n",
    "            ax[j].xaxis.set_ticks([-2,-1,0,1,2])\n",
    "        else:\n",
    "            ax[j].xaxis.set_ticks([])\n",
    "        ax[j].set_xlim(-2.5, 2.5)\n",
    "        j += 1\n",
    "plt.subplots_adjust(hspace=0, wspace=0)\n",
    "plt.show()"
   ]
  },
  {
   "cell_type": "code",
   "execution_count": null,
   "id": "604cb096",
   "metadata": {},
   "outputs": [],
   "source": [
    "plt.hist(thetas_selected[:,-1], bins=61, color=\"#EE6677\", histtype=\"step\", density=True)\n",
    "plt.xlabel('redshift, $z$')\n",
    "plt.ylabel(\"$n(z)$\")\n",
    "plt.show()"
   ]
  },
  {
   "cell_type": "code",
   "execution_count": null,
   "id": "860b55e3",
   "metadata": {},
   "outputs": [],
   "source": []
  }
 ],
 "metadata": {
  "kernelspec": {
   "display_name": "Python 3 (ipykernel)",
   "language": "python",
   "name": "python3"
  },
  "language_info": {
   "codemirror_mode": {
    "name": "ipython",
    "version": 3
   },
   "file_extension": ".py",
   "mimetype": "text/x-python",
   "name": "python",
   "nbconvert_exporter": "python",
   "pygments_lexer": "ipython3",
   "version": "3.10.13"
  }
 },
 "nbformat": 4,
 "nbformat_minor": 5
}
